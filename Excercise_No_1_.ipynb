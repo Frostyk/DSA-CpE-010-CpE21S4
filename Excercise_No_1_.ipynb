{
  "nbformat": 4,
  "nbformat_minor": 0,
  "metadata": {
    "colab": {
      "provenance": [],
      "authorship_tag": "ABX9TyM86qam3NzLG3g/SHcqJksU",
      "include_colab_link": true
    },
    "kernelspec": {
      "name": "python3",
      "display_name": "Python 3"
    },
    "language_info": {
      "name": "python"
    }
  },
  "cells": [
    {
      "cell_type": "markdown",
      "metadata": {
        "id": "view-in-github",
        "colab_type": "text"
      },
      "source": [
        "<a href=\"https://colab.research.google.com/github/KennJieValleser/DSA-CpE-010-CpE21S4/blob/main/Excercise_No_1_.ipynb\" target=\"_parent\"><img src=\"https://colab.research.google.com/assets/colab-badge.svg\" alt=\"Open In Colab\"/></a>"
      ]
    },
    {
      "cell_type": "markdown",
      "source": [
        "Class Constructor and Method\n",
        "\n",
        "1. Develop a Python program that computes the area of a Rectangle shape\n",
        "2. Use Rectangle() as a class name.\n",
        "3. Use attributes length and width.\n",
        "4. Calculate the Area() of the rectangle.\n",
        "5. Display the computed area of a rectangle.\n",
        "\n",
        "*Note: OOP concepts of computing the area of a rectangle."
      ],
      "metadata": {
        "id": "Q7PB5ZpZvW69"
      }
    },
    {
      "cell_type": "code",
      "execution_count": 16,
      "metadata": {
        "colab": {
          "base_uri": "https://localhost:8080/"
        },
        "id": "IoOVyZcUmW7W",
        "outputId": "ed1f1d26-246d-46d9-d771-801412293d9f"
      },
      "outputs": [
        {
          "output_type": "stream",
          "name": "stdout",
          "text": [
            "Enter the length of the rectangle: 10\n",
            "Enter the width of the rectangle: 2\n",
            "The area of the rectangle is: 20\n"
          ]
        }
      ],
      "source": [
        "\n",
        "class Rectangle():\n",
        "  def Area(length, width):\n",
        "    ans = length * width\n",
        "    return ans\n",
        "\n",
        "length = int(input(\"Enter the length of the rectangle: \"))\n",
        "width = int(input(\"Enter the width of the rectangle: \"))\n",
        "\n",
        "print(\"The area of the rectangle is:\", Rectangle.Area(length, width))\n"
      ]
    }
  ]
}