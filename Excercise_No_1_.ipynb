{
  "nbformat": 4,
  "nbformat_minor": 0,
  "metadata": {
    "colab": {
      "provenance": [],
      "authorship_tag": "ABX9TyP1MbUubxke1jpwXvPO3/nG",
      "include_colab_link": true
    },
    "kernelspec": {
      "name": "python3",
      "display_name": "Python 3"
    },
    "language_info": {
      "name": "python"
    }
  },
  "cells": [
    {
      "cell_type": "markdown",
      "metadata": {
        "id": "view-in-github",
        "colab_type": "text"
      },
      "source": [
        "<a href=\"https://colab.research.google.com/github/KennJieValleser/DSA-CpE-010-CpE21S4/blob/main/Excercise_No_1_.ipynb\" target=\"_parent\"><img src=\"https://colab.research.google.com/assets/colab-badge.svg\" alt=\"Open In Colab\"/></a>"
      ]
    },
    {
      "cell_type": "code",
      "execution_count": 16,
      "metadata": {
        "colab": {
          "base_uri": "https://localhost:8080/"
        },
        "id": "IoOVyZcUmW7W",
        "outputId": "ed1f1d26-246d-46d9-d771-801412293d9f"
      },
      "outputs": [
        {
          "output_type": "stream",
          "name": "stdout",
          "text": [
            "Enter the length of the rectangle: 10\n",
            "Enter the width of the rectangle: 2\n",
            "The area of the rectangle is: 20\n"
          ]
        }
      ],
      "source": [
        "\n",
        "class Rectangle():\n",
        "  def Area(length, width):\n",
        "    ans = length * width\n",
        "    return ans\n",
        "\n",
        "length = int(input(\"Enter the length of the rectangle: \"))\n",
        "width = int(input(\"Enter the width of the rectangle: \"))\n",
        "\n",
        "print(\"The area of the rectangle is:\", Rectangle.Area(length, width))\n"
      ]
    }
  ]
}