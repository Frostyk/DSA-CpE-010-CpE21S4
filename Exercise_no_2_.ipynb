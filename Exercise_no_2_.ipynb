{
  "nbformat": 4,
  "nbformat_minor": 0,
  "metadata": {
    "colab": {
      "provenance": [],
      "authorship_tag": "ABX9TyM33N5GCaghvvY8zRKEnlEH",
      "include_colab_link": true
    },
    "kernelspec": {
      "name": "python3",
      "display_name": "Python 3"
    },
    "language_info": {
      "name": "python"
    }
  },
  "cells": [
    {
      "cell_type": "markdown",
      "metadata": {
        "id": "view-in-github",
        "colab_type": "text"
      },
      "source": [
        "<a href=\"https://colab.research.google.com/github/KennJieValleser/DSA-CpE-010-CpE21S4/blob/main/Exercise_no_2_.ipynb\" target=\"_parent\"><img src=\"https://colab.research.google.com/assets/colab-badge.svg\" alt=\"Open In Colab\"/></a>"
      ]
    },
    {
      "cell_type": "code",
      "execution_count": 12,
      "metadata": {
        "colab": {
          "base_uri": "https://localhost:8080/"
        },
        "id": "X_FgTpBY5HTH",
        "outputId": "84ff8e45-b115-4068-9897-5260220cadd2"
      },
      "outputs": [
        {
          "output_type": "stream",
          "name": "stdout",
          "text": [
            "The area of the rectangle is: 1.5\n",
            "The area of the square is: 16\n",
            "The area of the rectangle is: 6.0\n"
          ]
        }
      ],
      "source": [
        "class Shapes():\n",
        "  def __init__(self, length, width, sides, base, height):\n",
        "    self.length = length\n",
        "    self.width = width\n",
        "    self.sides = sides\n",
        "    self.base = base\n",
        "    self.height = height\n",
        "\n",
        "\n",
        "  class Square(Shapes):\n",
        "    def Area_Square(self):\n",
        "      ans = self.sides ** 2\n",
        "      return ans\n",
        "  class Rectangle(Shapes):\n",
        "    def Area_Rectangle(self):\n",
        "      ans = self.length * self.width\n",
        "      return ans\n",
        "  class Triangle(Shapes):\n",
        "    def Area_Triangle(self):\n",
        "      ans = (self.base * self.height)/2\n",
        "      return ans\n",
        "\n",
        "rectangle = Shapes.Rectangle(1.50, 1, 0, 0, 0)\n",
        "print(\"The area of the rectangle is:\", rectangle.Area_Rectangle())\n",
        "square = Shapes.Square(0, 0, 4, 0, 0)\n",
        "print(\"The area of the square is:\", square.Area_Square())\n",
        "triangle = Shapes.Triangle(0, 0, 0, 3, 4)\n",
        "print(\"The area of the rectangle is:\", triangle.Area_Triangle())\n",
        "\n",
        "\n"
      ]
    }
  ]
}